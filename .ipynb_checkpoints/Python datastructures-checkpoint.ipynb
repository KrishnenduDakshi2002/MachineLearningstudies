{
 "cells": [
  {
   "cell_type": "markdown",
   "id": "b447ef92-83cf-4f61-8321-10707b0b0688",
   "metadata": {},
   "source": [
    "## Python list and boolean"
   ]
  },
  {
   "cell_type": "code",
   "execution_count": 107,
   "id": "df7b0833-3f74-4b83-b0f1-ebd81f538eba",
   "metadata": {},
   "outputs": [],
   "source": [
    "my_name = \"Krishnendu Dakshi12\"  ## after my_name.  hit tab to get all methods for strings"
   ]
  },
  {
   "cell_type": "code",
   "execution_count": 108,
   "id": "868abc39-1a20-437a-b80a-e748a5e443bd",
   "metadata": {},
   "outputs": [
    {
     "name": "stdout",
     "output_type": "stream",
     "text": [
      "False\n",
      "False\n",
      "True\n"
     ]
    }
   ],
   "source": [
    "print(my_name.islower()) ## test if string contains all lowercase or not\n",
    "print(my_name.isalnum()) ## check if all all char are number\n",
    "print(my_name.istitle()) "
   ]
  },
  {
   "cell_type": "markdown",
   "id": "6f065c1c-abdc-4abc-a759-9b0f600a08a4",
   "metadata": {},
   "source": [
    "# Boolean and logical operators"
   ]
  },
  {
   "cell_type": "code",
   "execution_count": 109,
   "id": "009141ec-0600-46d4-9ece-7245d8a501aa",
   "metadata": {},
   "outputs": [
    {
     "data": {
      "text/plain": [
       "True"
      ]
     },
     "execution_count": 109,
     "metadata": {},
     "output_type": "execute_result"
    }
   ],
   "source": [
    "True and True"
   ]
  },
  {
   "cell_type": "code",
   "execution_count": 110,
   "id": "f0221edb-a7c1-4837-8730-c6a137e5d507",
   "metadata": {},
   "outputs": [
    {
     "data": {
      "text/plain": [
       "False"
      ]
     },
     "execution_count": 110,
     "metadata": {},
     "output_type": "execute_result"
    }
   ],
   "source": [
    "True and False"
   ]
  },
  {
   "cell_type": "code",
   "execution_count": 111,
   "id": "491d6a26-b428-4529-8348-b7fdb3a1f8ae",
   "metadata": {},
   "outputs": [
    {
     "data": {
      "text/plain": [
       "True"
      ]
     },
     "execution_count": 111,
     "metadata": {},
     "output_type": "execute_result"
    }
   ],
   "source": [
    "True or False\n"
   ]
  },
  {
   "cell_type": "code",
   "execution_count": 112,
   "id": "70dc5510-29cd-41d8-aac8-349420f9f6af",
   "metadata": {},
   "outputs": [
    {
     "data": {
      "text/plain": [
       "True"
      ]
     },
     "execution_count": 112,
     "metadata": {},
     "output_type": "execute_result"
    }
   ],
   "source": [
    "name = \"Krishnendu Dakshi\"\n",
    "user = \"k2022\"\n",
    "\n",
    "user.isalnum() and name.istitle()"
   ]
  },
  {
   "cell_type": "markdown",
   "id": "b6899b51-5e04-4bf4-8afb-74fc0e18abdd",
   "metadata": {},
   "source": [
    "# Lists"
   ]
  },
  {
   "cell_type": "markdown",
   "id": "dcf791db-053c-4ea3-a373-5ec5436f36a5",
   "metadata": {},
   "source": [
    "#### A list is a data structure in python that is a mutable or changable, ordered sequence of elements. Each element or value that is inside of a list is called an item. Just as strings are defined as characters between quotes, lists are defined by having values between square brackets[]"
   ]
  },
  {
   "cell_type": "code",
   "execution_count": 113,
   "id": "3f052687-a326-414e-9ea5-c7e2aa7107aa",
   "metadata": {},
   "outputs": [
    {
     "data": {
      "text/plain": [
       "list"
      ]
     },
     "execution_count": 113,
     "metadata": {},
     "output_type": "execute_result"
    }
   ],
   "source": [
    "type([])"
   ]
  },
  {
   "cell_type": "code",
   "execution_count": 114,
   "id": "0180ebf2-d495-4719-90d6-4d2a9f50f3ed",
   "metadata": {},
   "outputs": [
    {
     "data": {
      "text/plain": [
       "list"
      ]
     },
     "execution_count": 114,
     "metadata": {},
     "output_type": "execute_result"
    }
   ],
   "source": [
    "lst = list()\n",
    "type(lst)"
   ]
  },
  {
   "cell_type": "code",
   "execution_count": 115,
   "id": "050e54cc-89d4-438c-8327-47c9fe3c9f26",
   "metadata": {},
   "outputs": [
    {
     "name": "stdout",
     "output_type": "stream",
     "text": [
      "apple\n",
      "orange\n",
      "100\n",
      "3.34\n"
     ]
    }
   ],
   "source": [
    "lst = [ \"apple\", \"orange\", 100, 3.34]\n",
    "\n",
    "for i in lst:\n",
    "    print(i)"
   ]
  },
  {
   "cell_type": "markdown",
   "id": "c4e72a07-5b9a-4295-88cb-460815d7abd4",
   "metadata": {},
   "source": [
    "### Append"
   ]
  },
  {
   "cell_type": "code",
   "execution_count": 116,
   "id": "1782e2ca-6209-4cbe-9f2e-30ba11fc1208",
   "metadata": {},
   "outputs": [],
   "source": [
    "# append is used to add elements in the list\n",
    "lst.append(\"mango\")"
   ]
  },
  {
   "cell_type": "code",
   "execution_count": 117,
   "id": "1ae406da-9ce9-4f58-8ffb-300931513744",
   "metadata": {},
   "outputs": [
    {
     "name": "stdout",
     "output_type": "stream",
     "text": [
      "apple\n",
      "orange\n",
      "100\n",
      "3.34\n",
      "mango\n"
     ]
    }
   ],
   "source": [
    "for i in lst:\n",
    "    print(i)"
   ]
  },
  {
   "cell_type": "code",
   "execution_count": 118,
   "id": "3ee55107-b521-45f1-93fc-a9c5d83cb392",
   "metadata": {},
   "outputs": [
    {
     "name": "stdout",
     "output_type": "stream",
     "text": [
      "orange\n",
      "100\n"
     ]
    }
   ],
   "source": [
    "# indexing starts with 0 t0 (n-1)\n",
    "for i in lst[1:3]:   ## including index 1 and excluding index 3\n",
    "    # lst[:] these are called indexing techniques\n",
    "    print(i)"
   ]
  },
  {
   "cell_type": "code",
   "execution_count": 119,
   "id": "bbcc2fe7-6637-4289-9a47-4b2d57ef975f",
   "metadata": {},
   "outputs": [],
   "source": [
    "lst.append([\"Guava\",\"banana\"])  ## nested list"
   ]
  },
  {
   "cell_type": "code",
   "execution_count": 120,
   "id": "fec29f53-26fe-4fa4-a48a-1bc0c2e1d0da",
   "metadata": {},
   "outputs": [
    {
     "name": "stdout",
     "output_type": "stream",
     "text": [
      "apple\n",
      "orange\n",
      "100\n",
      "3.34\n",
      "mango\n",
      "['Guava', 'banana']\n"
     ]
    }
   ],
   "source": [
    "for i in lst:\n",
    "    print(i)"
   ]
  },
  {
   "cell_type": "markdown",
   "id": "cbc3f5f3-1a64-4693-8420-1ce12ba3ff14",
   "metadata": {},
   "source": [
    "### insert\n"
   ]
  },
  {
   "cell_type": "code",
   "execution_count": 121,
   "id": "7873398c-67e2-485c-83f2-24a52d4b4eea",
   "metadata": {},
   "outputs": [],
   "source": [
    "# insert in a specfic order\n",
    "lst.insert(2,\"Krishnendu\")   ## it will insert \"krishnendu\" at index 2"
   ]
  },
  {
   "cell_type": "code",
   "execution_count": 122,
   "id": "662be0c2-cedf-466a-be04-bfeab69166ec",
   "metadata": {},
   "outputs": [
    {
     "name": "stdout",
     "output_type": "stream",
     "text": [
      "apple\n",
      "orange\n",
      "Krishnendu\n",
      "100\n",
      "3.34\n",
      "mango\n",
      "['Guava', 'banana']\n"
     ]
    }
   ],
   "source": [
    "for i in lst:\n",
    "    print(i)"
   ]
  },
  {
   "cell_type": "markdown",
   "id": "bf5b40fe-1326-47ad-ae93-9ebd6c597ef9",
   "metadata": {},
   "source": [
    "### extend"
   ]
  },
  {
   "cell_type": "code",
   "execution_count": 123,
   "id": "f6e7c71d-346c-4475-ad88-769a51450d30",
   "metadata": {},
   "outputs": [],
   "source": [
    "lst = [1,2,3,4,5]\n"
   ]
  },
  {
   "cell_type": "code",
   "execution_count": 124,
   "id": "d553ce68-2efc-40e3-824f-52b2aa954f56",
   "metadata": {},
   "outputs": [],
   "source": [
    "lst.extend([6,7,8]) ## now it will extend not create a nested list"
   ]
  },
  {
   "cell_type": "code",
   "execution_count": 125,
   "id": "f96307a5-542e-4345-a8f2-37ad9cd03353",
   "metadata": {},
   "outputs": [
    {
     "data": {
      "text/plain": [
       "[1, 2, 3, 4, 5, 6, 7, 8]"
      ]
     },
     "execution_count": 125,
     "metadata": {},
     "output_type": "execute_result"
    }
   ],
   "source": [
    "lst  "
   ]
  },
  {
   "cell_type": "markdown",
   "id": "31100caa-9ee6-4cf7-ab1e-73f43cb8771d",
   "metadata": {},
   "source": [
    "### sum and pop"
   ]
  },
  {
   "cell_type": "code",
   "execution_count": 126,
   "id": "bb5128a1-4924-4d9f-8ce6-987cd7f4a0f2",
   "metadata": {},
   "outputs": [
    {
     "data": {
      "text/plain": [
       "36"
      ]
     },
     "execution_count": 126,
     "metadata": {},
     "output_type": "execute_result"
    }
   ],
   "source": [
    "sum(lst)"
   ]
  },
  {
   "cell_type": "code",
   "execution_count": 127,
   "id": "63d2698e-35e3-45b4-b879-17e7ffe5418e",
   "metadata": {},
   "outputs": [
    {
     "data": {
      "text/plain": [
       "8"
      ]
     },
     "execution_count": 127,
     "metadata": {},
     "output_type": "execute_result"
    }
   ],
   "source": [
    "lst.pop()"
   ]
  },
  {
   "cell_type": "code",
   "execution_count": 128,
   "id": "66337e9e-83d9-40c5-990b-86bc3b93e7b7",
   "metadata": {},
   "outputs": [
    {
     "data": {
      "text/plain": [
       "[1, 2, 3, 4, 5, 6, 7]"
      ]
     },
     "execution_count": 128,
     "metadata": {},
     "output_type": "execute_result"
    }
   ],
   "source": [
    "lst"
   ]
  },
  {
   "cell_type": "markdown",
   "id": "75b7e256-20c3-457b-8e3f-49e29d16dd08",
   "metadata": {},
   "source": [
    "### count and count all occurances of an element"
   ]
  },
  {
   "cell_type": "code",
   "execution_count": 129,
   "id": "cdccaee4-e661-4579-b1bb-6451ab2a238e",
   "metadata": {},
   "outputs": [
    {
     "data": {
      "text/plain": [
       "1"
      ]
     },
     "execution_count": 129,
     "metadata": {},
     "output_type": "execute_result"
    }
   ],
   "source": [
    "lst.count(7)"
   ]
  },
  {
   "cell_type": "code",
   "execution_count": 130,
   "id": "017abf43-3816-4bc3-bfb9-058a862c8b05",
   "metadata": {},
   "outputs": [
    {
     "data": {
      "text/plain": [
       "7"
      ]
     },
     "execution_count": 130,
     "metadata": {},
     "output_type": "execute_result"
    }
   ],
   "source": [
    "#length calculates total length of a list\n",
    "len(lst)"
   ]
  },
  {
   "cell_type": "code",
   "execution_count": 131,
   "id": "8d1127f3-7f9f-4871-807f-6c0b3305aaff",
   "metadata": {},
   "outputs": [
    {
     "data": {
      "text/plain": [
       "6"
      ]
     },
     "execution_count": 131,
     "metadata": {},
     "output_type": "execute_result"
    }
   ],
   "source": [
    "# index() : Returns the index of first occurance. Start and End index are not necessary parameters\n",
    "lst.index(7,0,9)"
   ]
  },
  {
   "cell_type": "code",
   "execution_count": 132,
   "id": "61bb1e19-ed3b-4b43-a3bb-e8092fd6b3c3",
   "metadata": {},
   "outputs": [
    {
     "data": {
      "text/plain": [
       "1"
      ]
     },
     "execution_count": 132,
     "metadata": {},
     "output_type": "execute_result"
    }
   ],
   "source": [
    "## min and max element in the list\n",
    "min(lst)"
   ]
  },
  {
   "cell_type": "code",
   "execution_count": 133,
   "id": "e0e6781e-a704-4de9-a7bb-e81b07720f0c",
   "metadata": {},
   "outputs": [
    {
     "data": {
      "text/plain": [
       "7"
      ]
     },
     "execution_count": 133,
     "metadata": {},
     "output_type": "execute_result"
    }
   ],
   "source": [
    "max(lst)"
   ]
  },
  {
   "cell_type": "code",
   "execution_count": 134,
   "id": "65040c1e-57c4-4732-8f73-7c4fea573718",
   "metadata": {},
   "outputs": [],
   "source": [
    "lst1 = [1,2,3,4,5]\n"
   ]
  },
  {
   "cell_type": "code",
   "execution_count": 135,
   "id": "7bb58498-cc69-4ddd-a749-665144338d00",
   "metadata": {},
   "outputs": [
    {
     "data": {
      "text/plain": [
       "[1, 2, 3, 4, 5, 1, 2, 3, 4, 5, 1, 2, 3, 4, 5]"
      ]
     },
     "execution_count": 135,
     "metadata": {},
     "output_type": "execute_result"
    }
   ],
   "source": [
    "lst1*3"
   ]
  },
  {
   "cell_type": "markdown",
   "id": "1ed8e302-19de-445f-a71c-3b035743965e",
   "metadata": {},
   "source": [
    "# Sets"
   ]
  },
  {
   "cell_type": "markdown",
   "id": "99cfefc2-099e-4770-b855-41b0d140adc9",
   "metadata": {},
   "source": [
    "### A set is an unordered collection data type that is iterable, mutable, and has no duplicate elements. Python's set class represents the mathematical notion of a set. This is based on data structure known as hash table"
   ]
  },
  {
   "cell_type": "code",
   "execution_count": 136,
   "id": "36f2dc5e-d7a9-4d66-9f1e-66e2aadbbd67",
   "metadata": {},
   "outputs": [
    {
     "name": "stdout",
     "output_type": "stream",
     "text": [
      "set()\n"
     ]
    },
    {
     "data": {
      "text/plain": [
       "set"
      ]
     },
     "execution_count": 136,
     "metadata": {},
     "output_type": "execute_result"
    }
   ],
   "source": [
    "## defining an empty set\n",
    "\n",
    "set_var = set()\n",
    "print(set_var)\n",
    "type(set_var)"
   ]
  },
  {
   "cell_type": "code",
   "execution_count": 137,
   "id": "dd856a47-05d5-4c7e-a803-7f5941bcb349",
   "metadata": {},
   "outputs": [],
   "source": [
    "set_var = {1,23,4,5,45,4,5}"
   ]
  },
  {
   "cell_type": "code",
   "execution_count": 138,
   "id": "6829ef1e-74e8-4ba5-9b0c-ac5b5b6f3d26",
   "metadata": {},
   "outputs": [
    {
     "data": {
      "text/plain": [
       "{1, 4, 5, 23, 45}"
      ]
     },
     "execution_count": 138,
     "metadata": {},
     "output_type": "execute_result"
    }
   ],
   "source": [
    "set_var"
   ]
  },
  {
   "cell_type": "code",
   "execution_count": 139,
   "id": "b090ee71-edde-4843-a6e9-89d22126e5f6",
   "metadata": {},
   "outputs": [],
   "source": [
    "# set does not support indexing \n",
    "# adding elements in set\n",
    "set_var.add(\"mango\")"
   ]
  },
  {
   "cell_type": "code",
   "execution_count": 140,
   "id": "56ab290f-632e-4823-a1f4-7a060c58da3a",
   "metadata": {},
   "outputs": [
    {
     "data": {
      "text/plain": [
       "{1, 23, 4, 45, 5, 'mango'}"
      ]
     },
     "execution_count": 140,
     "metadata": {},
     "output_type": "execute_result"
    }
   ],
   "source": [
    "set_var\n"
   ]
  },
  {
   "cell_type": "code",
   "execution_count": 141,
   "id": "5624d170-5c2b-40f3-8633-373360af09b6",
   "metadata": {},
   "outputs": [],
   "source": [
    "# intersection and intersection_update difference\n",
    "\n",
    "superheros = {\"Avengers\",\"Ironman\",\"Hitman\",\"Batman\",\"Flash\",\"wonder women\",\"Hulk\",\"Captain America\"}\n",
    "mcu = { \"Avengers\",\"Ironman\", \"Hulk\"}"
   ]
  },
  {
   "cell_type": "code",
   "execution_count": 142,
   "id": "d5332013-1651-40f1-ac22-bbaaa803ae8b",
   "metadata": {},
   "outputs": [
    {
     "data": {
      "text/plain": [
       "{'Batman', 'Captain America', 'Flash', 'Hitman', 'wonder women'}"
      ]
     },
     "execution_count": 142,
     "metadata": {},
     "output_type": "execute_result"
    }
   ],
   "source": [
    "# Difference\n",
    "superheros.difference(mcu) # substracting one set from another"
   ]
  },
  {
   "cell_type": "code",
   "execution_count": 143,
   "id": "22539523-4c6e-4e87-8e18-146594644bd5",
   "metadata": {},
   "outputs": [],
   "source": [
    "# difference_update\n",
    "superheros.difference_update(mcu) # after difference it will update the set"
   ]
  },
  {
   "cell_type": "code",
   "execution_count": 144,
   "id": "92d66aff-1105-44db-bda6-c78b896f219a",
   "metadata": {},
   "outputs": [
    {
     "data": {
      "text/plain": [
       "{'Batman', 'Captain America', 'Flash', 'Hitman', 'wonder women'}"
      ]
     },
     "execution_count": 144,
     "metadata": {},
     "output_type": "execute_result"
    }
   ],
   "source": [
    "superheros\n"
   ]
  },
  {
   "cell_type": "code",
   "execution_count": 145,
   "id": "359c6832-78c4-4c72-a003-2dac2e17243e",
   "metadata": {},
   "outputs": [
    {
     "data": {
      "text/plain": [
       "{'Avengers',\n",
       " 'Batman',\n",
       " 'Captain America',\n",
       " 'Flash',\n",
       " 'Hitman',\n",
       " 'Hulk',\n",
       " 'Ironman',\n",
       " 'wonder women'}"
      ]
     },
     "execution_count": 145,
     "metadata": {},
     "output_type": "execute_result"
    }
   ],
   "source": [
    "mcu.union(superheros)"
   ]
  },
  {
   "cell_type": "code",
   "execution_count": 146,
   "id": "c1825ea0-a914-416c-bf7d-85f9be703186",
   "metadata": {},
   "outputs": [
    {
     "data": {
      "text/plain": [
       "{'Avengers', 'Hulk', 'Ironman'}"
      ]
     },
     "execution_count": 146,
     "metadata": {},
     "output_type": "execute_result"
    }
   ],
   "source": [
    "mcu"
   ]
  },
  {
   "cell_type": "code",
   "execution_count": 147,
   "id": "9c5cbccf-4db4-40ef-b0b8-a7378eca6852",
   "metadata": {},
   "outputs": [
    {
     "data": {
      "text/plain": [
       "{'Batman', 'Captain America', 'Flash', 'Hitman', 'wonder women'}"
      ]
     },
     "execution_count": 147,
     "metadata": {},
     "output_type": "execute_result"
    }
   ],
   "source": [
    "superheros"
   ]
  },
  {
   "cell_type": "code",
   "execution_count": 148,
   "id": "b56f9344-39dc-4fa9-9117-6e0d84ea5fcc",
   "metadata": {},
   "outputs": [
    {
     "data": {
      "text/plain": [
       "{'Avengers',\n",
       " 'Batman',\n",
       " 'Captain America',\n",
       " 'Flash',\n",
       " 'Hitman',\n",
       " 'Hulk',\n",
       " 'Ironman',\n",
       " 'wonder women'}"
      ]
     },
     "execution_count": 148,
     "metadata": {},
     "output_type": "execute_result"
    }
   ],
   "source": [
    "superheros.union(mcu)"
   ]
  },
  {
   "cell_type": "code",
   "execution_count": 149,
   "id": "c9ad195e-ac90-437b-bd2a-b3fe006bdc63",
   "metadata": {},
   "outputs": [
    {
     "data": {
      "text/plain": [
       "{'Batman', 'Captain America', 'Flash', 'Hitman', 'wonder women'}"
      ]
     },
     "execution_count": 149,
     "metadata": {},
     "output_type": "execute_result"
    }
   ],
   "source": [
    "superheros\n"
   ]
  },
  {
   "cell_type": "code",
   "execution_count": 150,
   "id": "f151ebc1-86cc-46e5-90e0-194df6842683",
   "metadata": {},
   "outputs": [],
   "source": [
    "superheros.update(superheros.union(mcu)) # updating superheros with union of superheros and mcu"
   ]
  },
  {
   "cell_type": "code",
   "execution_count": 151,
   "id": "0053feaa-a5cd-4ee4-9984-c0359fa98b57",
   "metadata": {},
   "outputs": [
    {
     "data": {
      "text/plain": [
       "{'Avengers',\n",
       " 'Batman',\n",
       " 'Captain America',\n",
       " 'Flash',\n",
       " 'Hitman',\n",
       " 'Hulk',\n",
       " 'Ironman',\n",
       " 'wonder women'}"
      ]
     },
     "execution_count": 151,
     "metadata": {},
     "output_type": "execute_result"
    }
   ],
   "source": [
    "superheros"
   ]
  },
  {
   "cell_type": "markdown",
   "id": "2268f305-8fb5-4c75-bffe-a0ed3aac1066",
   "metadata": {},
   "source": [
    "# Dictionaries"
   ]
  },
  {
   "cell_type": "markdown",
   "id": "ba7cc281-1bc6-4170-993f-ff7e8331304d",
   "metadata": {},
   "source": [
    "### A dictionary is a collection which is unordered, changable and indexed. In python dictionaries are written with curly brackets, and they have keys and values"
   ]
  },
  {
   "cell_type": "code",
   "execution_count": 152,
   "id": "69a29f57-e547-4dab-98bd-3714951cf9a5",
   "metadata": {},
   "outputs": [],
   "source": [
    "dict = {}\n",
    "# or dict = dict()"
   ]
  },
  {
   "cell_type": "code",
   "execution_count": 153,
   "id": "9b59ab95-d1a0-4d08-8abb-a61a65722966",
   "metadata": {},
   "outputs": [
    {
     "data": {
      "text/plain": [
       "dict"
      ]
     },
     "execution_count": 153,
     "metadata": {},
     "output_type": "execute_result"
    }
   ],
   "source": [
    "type(dict)"
   ]
  },
  {
   "cell_type": "code",
   "execution_count": 154,
   "id": "5dfb8a8c-714b-49d8-8c82-23180c6b39e3",
   "metadata": {},
   "outputs": [],
   "source": [
    "dict = {1,2,34,5}\n"
   ]
  },
  {
   "cell_type": "code",
   "execution_count": 155,
   "id": "661448af-9036-43e0-a463-2f700e8a6fe9",
   "metadata": {},
   "outputs": [
    {
     "data": {
      "text/plain": [
       "set"
      ]
     },
     "execution_count": 155,
     "metadata": {},
     "output_type": "execute_result"
    }
   ],
   "source": [
    "type(dict)"
   ]
  },
  {
   "cell_type": "code",
   "execution_count": 156,
   "id": "65c17420-ce51-4d3a-a10c-8a180113f1ff",
   "metadata": {},
   "outputs": [],
   "source": [
    "# let create a dictionary\n",
    "\n",
    "dict = {\"mango\" : 1, \"banana\" : 5}"
   ]
  },
  {
   "cell_type": "code",
   "execution_count": 157,
   "id": "f440dfc6-e9ca-4e0a-a495-ee9f7e721307",
   "metadata": {},
   "outputs": [
    {
     "data": {
      "text/plain": [
       "{'mango': 1, 'banana': 5}"
      ]
     },
     "execution_count": 157,
     "metadata": {},
     "output_type": "execute_result"
    }
   ],
   "source": [
    "dict"
   ]
  },
  {
   "cell_type": "code",
   "execution_count": 158,
   "id": "a36c5ff0-dc57-4cb1-bf5f-5ce9ad21936a",
   "metadata": {},
   "outputs": [
    {
     "name": "stdout",
     "output_type": "stream",
     "text": [
      "mango\n",
      "banana\n"
     ]
    }
   ],
   "source": [
    "# loop through keys \n",
    "for i in dict.keys():\n",
    "    print(i)"
   ]
  },
  {
   "cell_type": "code",
   "execution_count": 159,
   "id": "c409de87-32b4-4850-9c59-8b46e0470205",
   "metadata": {},
   "outputs": [
    {
     "name": "stdout",
     "output_type": "stream",
     "text": [
      "1\n",
      "5\n"
     ]
    }
   ],
   "source": [
    "# loop through values\n",
    "for i in dict.values():\n",
    "    print(i)"
   ]
  },
  {
   "cell_type": "code",
   "execution_count": 160,
   "id": "166f84f5-1799-4e91-a9aa-66df7c46de61",
   "metadata": {},
   "outputs": [
    {
     "data": {
      "text/plain": [
       "1"
      ]
     },
     "execution_count": 160,
     "metadata": {},
     "output_type": "execute_result"
    }
   ],
   "source": [
    "dict[\"mango\"]"
   ]
  },
  {
   "cell_type": "code",
   "execution_count": 162,
   "id": "74923971-3646-4199-9406-54fd9d0c71eb",
   "metadata": {},
   "outputs": [
    {
     "name": "stdout",
     "output_type": "stream",
     "text": [
      "('mango', 1)\n",
      "('banana', 5)\n"
     ]
    }
   ],
   "source": [
    "# we can also check for both keys and values\n",
    "for i in dict.items(): # these will return tuple\n",
    "    print(i)"
   ]
  },
  {
   "cell_type": "code",
   "execution_count": 163,
   "id": "ef2592e4-8488-497d-a26c-b23559b98e15",
   "metadata": {},
   "outputs": [],
   "source": [
    "dict[\"grapes\"] = 4"
   ]
  },
  {
   "cell_type": "code",
   "execution_count": 164,
   "id": "17ae7fc2-1e5c-4f42-98b0-0e634c90d861",
   "metadata": {},
   "outputs": [
    {
     "data": {
      "text/plain": [
       "{'mango': 1, 'banana': 5, 'grapes': 4}"
      ]
     },
     "execution_count": 164,
     "metadata": {},
     "output_type": "execute_result"
    }
   ],
   "source": [
    "dict"
   ]
  },
  {
   "cell_type": "markdown",
   "id": "2ca9c974-374e-4bd3-9c36-69df2e436458",
   "metadata": {},
   "source": [
    "### Nested dictionaries"
   ]
  },
  {
   "cell_type": "code",
   "execution_count": 166,
   "id": "139d79e5-acc8-49bc-9548-5c92e4723494",
   "metadata": {},
   "outputs": [],
   "source": [
    "dict[\"summer_fruits\"] = {\"watermelon\" : 3, \"papaya\" : 2}"
   ]
  },
  {
   "cell_type": "code",
   "execution_count": 167,
   "id": "d99ff4df-c5cb-478b-9b23-05a0a3116226",
   "metadata": {},
   "outputs": [
    {
     "data": {
      "text/plain": [
       "{'mango': 1,\n",
       " 'banana': 5,\n",
       " 'grapes': 4,\n",
       " 'summer_fruits': {'watermelon': 3, 'papaya': 2}}"
      ]
     },
     "execution_count": 167,
     "metadata": {},
     "output_type": "execute_result"
    }
   ],
   "source": [
    "dict"
   ]
  },
  {
   "cell_type": "code",
   "execution_count": 168,
   "id": "d6005977-3a3a-41c4-8d3f-d30fb9db8cb7",
   "metadata": {},
   "outputs": [
    {
     "data": {
      "text/plain": [
       "{'watermelon': 3, 'papaya': 2}"
      ]
     },
     "execution_count": 168,
     "metadata": {},
     "output_type": "execute_result"
    }
   ],
   "source": [
    "dict[\"summer_fruits\"]"
   ]
  },
  {
   "cell_type": "markdown",
   "id": "c33e7d26-f039-4f55-bfe6-529e0a2902cc",
   "metadata": {},
   "source": [
    "# Tuple"
   ]
  },
  {
   "cell_type": "code",
   "execution_count": 169,
   "id": "6d7a0c11-f731-4a94-aa0f-9099bdf69a75",
   "metadata": {},
   "outputs": [],
   "source": [
    "tup = ()"
   ]
  },
  {
   "cell_type": "code",
   "execution_count": 170,
   "id": "285d45a7-a220-43e3-b174-afc36a8e0f9d",
   "metadata": {},
   "outputs": [],
   "source": [
    "tup = (\"mango\",\"grapes\",\"apple\")"
   ]
  },
  {
   "cell_type": "code",
   "execution_count": 171,
   "id": "03be30a5-390c-4901-8ba6-25368788d3f1",
   "metadata": {},
   "outputs": [
    {
     "data": {
      "text/plain": [
       "('mango', 'grapes', 'apple')"
      ]
     },
     "execution_count": 171,
     "metadata": {},
     "output_type": "execute_result"
    }
   ],
   "source": [
    "tup"
   ]
  },
  {
   "cell_type": "code",
   "execution_count": 173,
   "id": "a5a5f270-8198-4329-adf2-b964bca7d8bd",
   "metadata": {},
   "outputs": [],
   "source": [
    "# we can't do any operations, we can replace the whole tuple\n",
    "tup = (\"watermelon\",\"oranges\",\"cuccumber\")"
   ]
  },
  {
   "cell_type": "code",
   "execution_count": 174,
   "id": "1299ed8b-8bd0-4b96-94b3-2cdc34279ab5",
   "metadata": {},
   "outputs": [
    {
     "data": {
      "text/plain": [
       "('watermelon', 'oranges', 'cuccumber')"
      ]
     },
     "execution_count": 174,
     "metadata": {},
     "output_type": "execute_result"
    }
   ],
   "source": [
    "tup"
   ]
  },
  {
   "cell_type": "code",
   "execution_count": 176,
   "id": "2d25abca-9f89-4e32-9ed9-101c2bb04aed",
   "metadata": {},
   "outputs": [
    {
     "data": {
      "text/plain": [
       "1"
      ]
     },
     "execution_count": 176,
     "metadata": {},
     "output_type": "execute_result"
    }
   ],
   "source": [
    "## Inbuilt function\n",
    "tup.count(\"watermelon\")"
   ]
  },
  {
   "cell_type": "code",
   "execution_count": null,
   "id": "b6d949fe-1099-4352-8e0a-d63370433f5c",
   "metadata": {},
   "outputs": [],
   "source": []
  }
 ],
 "metadata": {
  "kernelspec": {
   "display_name": "Python 3 (ipykernel)",
   "language": "python",
   "name": "python3"
  },
  "language_info": {
   "codemirror_mode": {
    "name": "ipython",
    "version": 3
   },
   "file_extension": ".py",
   "mimetype": "text/x-python",
   "name": "python",
   "nbconvert_exporter": "python",
   "pygments_lexer": "ipython3",
   "version": "3.9.7"
  }
 },
 "nbformat": 4,
 "nbformat_minor": 5
}
