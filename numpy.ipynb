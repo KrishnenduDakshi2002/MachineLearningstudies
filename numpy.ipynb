{
 "cells": [
  {
   "cell_type": "markdown",
   "id": "493c884c-b20f-4e66-8889-e9e09bdb1fde",
   "metadata": {
    "tags": []
   },
   "source": [
    "# what is an Array\n",
    "### An array is a data structure that stores values of same datetype. In python, this is the main difference between arrays and lists. while python lists can contain values corresponding to different data types, arrays in python can only contain values corresponding to same data type"
   ]
  },
  {
   "cell_type": "code",
   "execution_count": 1,
   "id": "27ab7fb2-935b-48de-8c1c-425ee5f6f898",
   "metadata": {},
   "outputs": [],
   "source": [
    "import numpy as np"
   ]
  },
  {
   "cell_type": "code",
   "execution_count": 2,
   "id": "ac9955e0-134b-4637-a136-62d2da503d6b",
   "metadata": {},
   "outputs": [],
   "source": [
    "lst = [1,2,3,4]\n",
    "\n",
    "arr = np.array(lst)"
   ]
  },
  {
   "cell_type": "code",
   "execution_count": 3,
   "id": "6e800e0e-7a05-4c8b-941d-b0a1b53bad09",
   "metadata": {},
   "outputs": [
    {
     "data": {
      "text/plain": [
       "array([1, 2, 3, 4])"
      ]
     },
     "execution_count": 3,
     "metadata": {},
     "output_type": "execute_result"
    }
   ],
   "source": [
    "arr"
   ]
  },
  {
   "cell_type": "code",
   "execution_count": 4,
   "id": "5ee0e81c-6bf7-427e-a8d3-0e2cd238b7e3",
   "metadata": {},
   "outputs": [
    {
     "data": {
      "text/plain": [
       "numpy.ndarray"
      ]
     },
     "execution_count": 4,
     "metadata": {},
     "output_type": "execute_result"
    }
   ],
   "source": [
    "type(arr)"
   ]
  },
  {
   "cell_type": "code",
   "execution_count": 6,
   "id": "9814ca19-b307-4840-8bc5-8c8426f42e9d",
   "metadata": {},
   "outputs": [
    {
     "data": {
      "text/plain": [
       "(4,)"
      ]
     },
     "execution_count": 6,
     "metadata": {},
     "output_type": "execute_result"
    }
   ],
   "source": [
    "arr.shape"
   ]
  },
  {
   "cell_type": "code",
   "execution_count": 10,
   "id": "7c658168-120c-45f4-99b6-486a36586073",
   "metadata": {},
   "outputs": [],
   "source": [
    "## multi dimensiontional array\n",
    "lst1 = [10,12,1,2,1]\n",
    "lst2 = [1,22,13,11,45]\n",
    "lst3 = [11,12,1,2,1]\n"
   ]
  },
  {
   "cell_type": "code",
   "execution_count": 11,
   "id": "f5761b3b-4fa6-48fa-85c7-21f2dbf7a353",
   "metadata": {},
   "outputs": [],
   "source": [
    "ndarr= np.array([lst1,lst2,lst3])"
   ]
  },
  {
   "cell_type": "code",
   "execution_count": 12,
   "id": "f5b102f8-5de6-46ff-ac97-a43c94012177",
   "metadata": {},
   "outputs": [
    {
     "data": {
      "text/plain": [
       "array([[10, 12,  1,  2,  1],\n",
       "       [ 1, 22, 13, 11, 45],\n",
       "       [11, 12,  1,  2,  1]])"
      ]
     },
     "execution_count": 12,
     "metadata": {},
     "output_type": "execute_result"
    }
   ],
   "source": [
    "ndarr"
   ]
  },
  {
   "cell_type": "code",
   "execution_count": 14,
   "id": "7f1f6242-873a-40ec-ba62-e538679e39f7",
   "metadata": {},
   "outputs": [
    {
     "data": {
      "text/plain": [
       "(3, 5)"
      ]
     },
     "execution_count": 14,
     "metadata": {},
     "output_type": "execute_result"
    }
   ],
   "source": [
    "ndarr.shape  # (rows,columns)"
   ]
  },
  {
   "cell_type": "code",
   "execution_count": 16,
   "id": "685aac3d-7ffa-42a0-ad63-9711284eee1b",
   "metadata": {},
   "outputs": [
    {
     "data": {
      "text/plain": [
       "array([[10, 12,  1],\n",
       "       [ 2,  1,  1],\n",
       "       [22, 13, 11],\n",
       "       [45, 11, 12],\n",
       "       [ 1,  2,  1]])"
      ]
     },
     "execution_count": 16,
     "metadata": {},
     "output_type": "execute_result"
    }
   ],
   "source": [
    "ndarr.reshape(5,3) # after reshaping total number of elements should be same as before"
   ]
  },
  {
   "cell_type": "markdown",
   "id": "ab3e8b12-f82d-4c32-9843-affc49c23425",
   "metadata": {},
   "source": [
    "## indexing"
   ]
  },
  {
   "cell_type": "code",
   "execution_count": 17,
   "id": "0aca9ece-af2e-42bf-9488-670effae2627",
   "metadata": {},
   "outputs": [
    {
     "data": {
      "text/plain": [
       "array([1, 2, 3, 4])"
      ]
     },
     "execution_count": 17,
     "metadata": {},
     "output_type": "execute_result"
    }
   ],
   "source": [
    "# accesing array elements\n",
    "\n",
    "arr"
   ]
  },
  {
   "cell_type": "code",
   "execution_count": 18,
   "id": "5f13a781-bbd1-40ea-bcca-47864b2a9803",
   "metadata": {},
   "outputs": [
    {
     "data": {
      "text/plain": [
       "4"
      ]
     },
     "execution_count": 18,
     "metadata": {},
     "output_type": "execute_result"
    }
   ],
   "source": [
    "arr[3]"
   ]
  },
  {
   "cell_type": "code",
   "execution_count": 19,
   "id": "b75d95d2-c3cf-49a6-a5bd-71432bd475fe",
   "metadata": {},
   "outputs": [
    {
     "data": {
      "text/plain": [
       "array([[10, 12,  1,  2,  1],\n",
       "       [ 1, 22, 13, 11, 45],\n",
       "       [11, 12,  1,  2,  1]])"
      ]
     },
     "execution_count": 19,
     "metadata": {},
     "output_type": "execute_result"
    }
   ],
   "source": [
    "ndarr"
   ]
  },
  {
   "cell_type": "code",
   "execution_count": 20,
   "id": "5f793220-256b-4d5b-968b-96a39c7112fb",
   "metadata": {},
   "outputs": [
    {
     "data": {
      "text/plain": [
       "13"
      ]
     },
     "execution_count": 20,
     "metadata": {},
     "output_type": "execute_result"
    }
   ],
   "source": [
    "ndarr[1][2]"
   ]
  },
  {
   "cell_type": "code",
   "execution_count": 25,
   "id": "21d3c0b2-1ff3-4d88-9e3f-7931e4ec7521",
   "metadata": {},
   "outputs": [
    {
     "data": {
      "text/plain": [
       "array([[10, 12,  1,  2,  1],\n",
       "       [ 1, 22, 13, 11, 45],\n",
       "       [11, 12,  1,  2,  1]])"
      ]
     },
     "execution_count": 25,
     "metadata": {},
     "output_type": "execute_result"
    }
   ],
   "source": [
    "ndarr[:,:] # gives the whole array"
   ]
  },
  {
   "cell_type": "code",
   "execution_count": 27,
   "id": "cbb92562-9995-42f7-a0e2-addcd9ef892b",
   "metadata": {},
   "outputs": [
    {
     "data": {
      "text/plain": [
       "array([[ 2,  1],\n",
       "       [11, 45],\n",
       "       [ 2,  1]])"
      ]
     },
     "execution_count": 27,
     "metadata": {},
     "output_type": "execute_result"
    }
   ],
   "source": [
    "ndarr[:,3:]  # all rows and from 3rd(excluding) column"
   ]
  },
  {
   "cell_type": "code",
   "execution_count": 28,
   "id": "08dfa805-7864-4ec6-badb-4b7644590c8f",
   "metadata": {},
   "outputs": [
    {
     "data": {
      "text/plain": [
       "array([[11, 45],\n",
       "       [ 2,  1]])"
      ]
     },
     "execution_count": 28,
     "metadata": {},
     "output_type": "execute_result"
    }
   ],
   "source": [
    "ndarr[1:,3:] # excluding 1st row and 3rd column"
   ]
  },
  {
   "cell_type": "markdown",
   "id": "2030f0e4-5ef8-4510-bb5f-4786d88e1b52",
   "metadata": {},
   "source": [
    "## inbuilt functions"
   ]
  },
  {
   "cell_type": "code",
   "execution_count": 29,
   "id": "a0c36168-24bb-4199-b223-9b60c962ddd6",
   "metadata": {},
   "outputs": [],
   "source": [
    "my_arr = np.arange(0,10)"
   ]
  },
  {
   "cell_type": "code",
   "execution_count": 30,
   "id": "3cafa0fe-5b5f-411f-be28-d70e5252a4d5",
   "metadata": {},
   "outputs": [
    {
     "data": {
      "text/plain": [
       "array([0, 1, 2, 3, 4, 5, 6, 7, 8, 9])"
      ]
     },
     "execution_count": 30,
     "metadata": {},
     "output_type": "execute_result"
    }
   ],
   "source": [
    "my_arr"
   ]
  },
  {
   "cell_type": "code",
   "execution_count": 31,
   "id": "ea2054ff-2bff-40b1-ac3f-a433ea5b4309",
   "metadata": {},
   "outputs": [],
   "source": [
    "my_arr = np.arange(0,10,step=2)"
   ]
  },
  {
   "cell_type": "code",
   "execution_count": 33,
   "id": "a78619ee-d1be-47a7-8cf5-b374d7037bb2",
   "metadata": {},
   "outputs": [
    {
     "data": {
      "text/plain": [
       "array([0, 2, 4, 6, 8])"
      ]
     },
     "execution_count": 33,
     "metadata": {},
     "output_type": "execute_result"
    }
   ],
   "source": [
    "my_arr"
   ]
  },
  {
   "cell_type": "code",
   "execution_count": 36,
   "id": "b7dcedb1-9971-417e-8d05-e9ca942dd547",
   "metadata": {},
   "outputs": [
    {
     "data": {
      "text/plain": [
       "array([ 1.        ,  1.47368421,  1.94736842,  2.42105263,  2.89473684,\n",
       "        3.36842105,  3.84210526,  4.31578947,  4.78947368,  5.26315789,\n",
       "        5.73684211,  6.21052632,  6.68421053,  7.15789474,  7.63157895,\n",
       "        8.10526316,  8.57894737,  9.05263158,  9.52631579, 10.        ])"
      ]
     },
     "execution_count": 36,
     "metadata": {},
     "output_type": "execute_result"
    }
   ],
   "source": [
    "np.linspace(1,10,20) # start = 1, stop = 10, total numbers = 20 ( are equally spaced between 1 and 10)"
   ]
  },
  {
   "cell_type": "markdown",
   "id": "372d8049-ac47-4769-ab25-f057f8987e3c",
   "metadata": {},
   "source": [
    "## copy function and broadcasting"
   ]
  },
  {
   "cell_type": "code",
   "execution_count": 50,
   "id": "e4f0b309-57c6-4c8d-984f-20a4e9f481dd",
   "metadata": {},
   "outputs": [
    {
     "data": {
      "text/plain": [
       "array([  1.,   2.,   3.,   4.,   5., 300., 300., 300., 300., 300.])"
      ]
     },
     "execution_count": 50,
     "metadata": {},
     "output_type": "execute_result"
    }
   ],
   "source": [
    "my_arr = np.linspace(1,10,10)\n",
    "my_arr[5:] = 300\n",
    "my_arr"
   ]
  },
  {
   "cell_type": "code",
   "execution_count": 57,
   "id": "2420ccac-dd79-4609-91e8-242325883af9",
   "metadata": {},
   "outputs": [
    {
     "name": "stdout",
     "output_type": "stream",
     "text": [
      "[  1.   2.   3.   4.   5. 900. 900. 900. 900. 900.]\n"
     ]
    }
   ],
   "source": [
    "arr1 = my_arr\n",
    "arr1[5:] = 900\n",
    "print(arr1)"
   ]
  },
  {
   "cell_type": "code",
   "execution_count": 58,
   "id": "c0119246-95ab-47d0-a997-726219a4b374",
   "metadata": {},
   "outputs": [],
   "source": [
    "arr1 = my_arr.copy()"
   ]
  },
  {
   "cell_type": "code",
   "execution_count": 59,
   "id": "83eafefd-41a7-42dd-8149-6a358e2b7cc1",
   "metadata": {},
   "outputs": [
    {
     "data": {
      "text/plain": [
       "array([  1.,   2.,   3.,   4.,   5., 900., 900., 900., 900., 900.])"
      ]
     },
     "execution_count": 59,
     "metadata": {},
     "output_type": "execute_result"
    }
   ],
   "source": [
    "arr1"
   ]
  },
  {
   "cell_type": "markdown",
   "id": "c82a4598-d5a7-4412-9f6c-667cb785aeb4",
   "metadata": {},
   "source": [
    "## some conditions that are useful in exploratory data analysis"
   ]
  },
  {
   "cell_type": "code",
   "execution_count": 68,
   "id": "0098fddb-d5ce-4cbe-8fb5-487104e356cc",
   "metadata": {},
   "outputs": [
    {
     "name": "stdout",
     "output_type": "stream",
     "text": [
      "[ True  True  True  True  True False False False False False]\n",
      "[1. 2. 3. 4. 5.]\n",
      "[   3.    6.    9.   12.   15. 2700. 2700. 2700. 2700. 2700.]\n"
     ]
    }
   ],
   "source": [
    "val = 10\n",
    "print(my_arr < val)\n",
    "\n",
    "print(my_arr[my_arr < val])\n",
    "print(my_arr*3)"
   ]
  },
  {
   "cell_type": "code",
   "execution_count": 77,
   "id": "7851aa91-a268-421c-a592-dae61d43daf1",
   "metadata": {},
   "outputs": [
    {
     "data": {
      "text/plain": [
       "array([[ 0,  1,  2,  3,  4],\n",
       "       [ 5,  6,  7,  8,  9],\n",
       "       [10, 11, 12, 13, 14]])"
      ]
     },
     "execution_count": 77,
     "metadata": {},
     "output_type": "execute_result"
    }
   ],
   "source": [
    "## create arrays and reshape\n",
    "\n",
    "my_arr2 = np.arange(0,15).reshape(3,5)\n",
    "my_arr2"
   ]
  },
  {
   "cell_type": "code",
   "execution_count": 73,
   "id": "0feb60fe-acd3-4976-a47f-ea983e70c343",
   "metadata": {},
   "outputs": [
    {
     "data": {
      "text/plain": [
       "(3, 5)"
      ]
     },
     "execution_count": 73,
     "metadata": {},
     "output_type": "execute_result"
    }
   ],
   "source": [
    "ndarr.shape"
   ]
  },
  {
   "cell_type": "code",
   "execution_count": 78,
   "id": "1d685b47-aa6b-43d1-ba80-16967651246b",
   "metadata": {},
   "outputs": [
    {
     "data": {
      "text/plain": [
       "array([[  0,  12,   2,   6,   4],\n",
       "       [  5, 132,  91,  88, 405],\n",
       "       [110, 132,  12,  26,  14]])"
      ]
     },
     "execution_count": 78,
     "metadata": {},
     "output_type": "execute_result"
    }
   ],
   "source": [
    "ndarr * my_arr2"
   ]
  },
  {
   "cell_type": "code",
   "execution_count": 85,
   "id": "29a5519a-9232-4166-875b-08943f4bcfb7",
   "metadata": {},
   "outputs": [
    {
     "data": {
      "text/plain": [
       "array([1., 1., 1., 1.])"
      ]
     },
     "execution_count": 85,
     "metadata": {},
     "output_type": "execute_result"
    }
   ],
   "source": [
    "## initiating with ones\n",
    "np.ones(4,dtype= float) ## default dtype is float"
   ]
  },
  {
   "cell_type": "code",
   "execution_count": 80,
   "id": "7fe36566-4ee9-4287-ae28-38f8d95794a9",
   "metadata": {},
   "outputs": [
    {
     "data": {
      "text/plain": [
       "array([[1, 1, 1, 1, 1],\n",
       "       [1, 1, 1, 1, 1]])"
      ]
     },
     "execution_count": 80,
     "metadata": {},
     "output_type": "execute_result"
    }
   ],
   "source": [
    "np.ones((2,5),dtype=int)"
   ]
  },
  {
   "cell_type": "code",
   "execution_count": 87,
   "id": "df9e5ec1-f955-4322-9721-26f5ad70c7fc",
   "metadata": {},
   "outputs": [
    {
     "data": {
      "text/plain": [
       "array([[0.92235258, 0.35145765, 0.49078087],\n",
       "       [0.52813932, 0.75573461, 0.92183161],\n",
       "       [0.3692394 , 0.12150438, 0.27620951]])"
      ]
     },
     "execution_count": 87,
     "metadata": {},
     "output_type": "execute_result"
    }
   ],
   "source": [
    "## random distribution\n",
    "np.random.rand(3,3)  # random values and create array of given shape\n",
    "## create sample from a uniform distribution"
   ]
  },
  {
   "cell_type": "code",
   "execution_count": 95,
   "id": "3a82603b-42eb-4fba-8fc9-8ec6da3f99ff",
   "metadata": {},
   "outputs": [
    {
     "data": {
      "text/plain": [
       "array([[-1.75064966, -0.87006246,  0.43988521, -0.03489203],\n",
       "       [-2.43317675,  0.57406573, -1.37138184,  0.68518765],\n",
       "       [-1.89077674,  0.67814433, -0.6407799 ,  0.3877672 ],\n",
       "       [-1.39708339,  0.45837217, -0.71013185, -0.67332096]])"
      ]
     },
     "execution_count": 95,
     "metadata": {},
     "output_type": "execute_result"
    }
   ],
   "source": [
    "arr_ex = np.random.randn(4,4) # standard normal distribution\n",
    "arr_ex"
   ]
  },
  {
   "cell_type": "code",
   "execution_count": 96,
   "id": "59ceb79e-4549-44b9-a1bb-ff57e80f5598",
   "metadata": {},
   "outputs": [],
   "source": [
    "import seaborn as sns\n",
    "import pandas as pd"
   ]
  },
  {
   "cell_type": "code",
   "execution_count": 97,
   "id": "7543d429-4738-41a9-b63d-7553eba8d3c8",
   "metadata": {},
   "outputs": [
    {
     "data": {
      "text/plain": [
       "<seaborn.axisgrid.FacetGrid at 0x7f87e9b81220>"
      ]
     },
     "execution_count": 97,
     "metadata": {},
     "output_type": "execute_result"
    },
    {
     "data": {
      "image/png": "[encoded data removed]",
      "text/plain": [
       "<Figure size 402.375x360 with 1 Axes>"
      ]
     },
     "metadata": {
      "needs_background": "light"
     },
     "output_type": "display_data"
    }
   ],
   "source": [
    "sns.displot(pd.DataFrame(arr_ex.reshape(16,1)))"
   ]
  },
  {
   "cell_type": "code",
   "execution_count": 102,
   "id": "13364533-8e0d-42b5-a019-4ed8a233e3d9",
   "metadata": {},
   "outputs": [
    {
     "data": {
      "text/plain": [
       "array([[73, 84],\n",
       "       [35, 17],\n",
       "       [65, 84],\n",
       "       [ 7,  4]])"
      ]
     },
     "execution_count": 102,
     "metadata": {},
     "output_type": "execute_result"
    }
   ],
   "source": [
    "np.random.randint(low=0,high=100,size=8).reshape(4,2)"
   ]
  },
  {
   "cell_type": "code",
   "execution_count": 103,
   "id": "800d4b58-c999-4030-adba-6ed74c37758d",
   "metadata": {},
   "outputs": [
    {
     "data": {
      "text/plain": [
       "array([0.4827003 , 0.57151656, 0.90060669, 0.43469498, 0.55219153,\n",
       "       0.37427157, 0.26598351, 0.01302175, 0.12697605, 0.39392784,\n",
       "       0.97653514, 0.74980164, 0.91533013, 0.31348456, 0.78049964,\n",
       "       0.5005886 , 0.16940165, 0.32427555, 0.75518332, 0.56886911,\n",
       "       0.08145796, 0.7769758 , 0.90901139, 0.58287699, 0.0087187 ,\n",
       "       0.79544851, 0.61395835, 0.53082468, 0.7768397 , 0.92048578,\n",
       "       0.94669604, 0.67931321, 0.01365641, 0.2264458 , 0.97212082,\n",
       "       0.32466263, 0.91802328, 0.81637154, 0.92015655, 0.12283511,\n",
       "       0.80726494, 0.77065054, 0.0671647 , 0.27403514, 0.90458823,\n",
       "       0.233904  , 0.50709192, 0.45228634, 0.57466504, 0.72025089,\n",
       "       0.33671232, 0.65233266, 0.93376325, 0.24089997, 0.30360306,\n",
       "       0.78097867, 0.86403725, 0.12818804, 0.02854035, 0.93049108,\n",
       "       0.82801092, 0.96033905, 0.48640183, 0.31771424, 0.86175572,\n",
       "       0.94198141, 0.4810586 , 0.146885  , 0.50908803, 0.50809734,\n",
       "       0.54853132, 0.20462665, 0.13135785, 0.84016511, 0.57841996,\n",
       "       0.90736162, 0.56676088, 0.00373876, 0.6538615 , 0.78926389,\n",
       "       0.40161726, 0.91143663, 0.98557942, 0.59496935, 0.27430819,\n",
       "       0.40333543, 0.63569913, 0.99488956, 0.44935574, 0.50207432,\n",
       "       0.32450873, 0.93066131, 0.94857526, 0.40510617, 0.40094048,\n",
       "       0.99085501, 0.59786331, 0.42448554, 0.43286033, 0.02283408])"
      ]
     },
     "execution_count": 103,
     "metadata": {},
     "output_type": "execute_result"
    }
   ],
   "source": [
    "np.random.random_sample(100)"
   ]
  },
  {
   "cell_type": "code",
   "execution_count": null,
   "id": "b6005d72-7b33-444f-8f12-6eb94897fd2c",
   "metadata": {},
   "outputs": [],
   "source": []
  }
 ],
 "metadata": {
  "kernelspec": {
   "display_name": "Python 3 (ipykernel)",
   "language": "python",
   "name": "python3"
  },
  "language_info": {
   "codemirror_mode": {
    "name": "ipython",
    "version": 3
   },
   "file_extension": ".py",
   "mimetype": "text/x-python",
   "name": "python",
   "nbconvert_exporter": "python",
   "pygments_lexer": "ipython3",
   "version": "3.9.7"
  }
 },
 "nbformat": 4,
 "nbformat_minor": 5
}
