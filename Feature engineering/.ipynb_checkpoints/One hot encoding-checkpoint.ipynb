{
 "cells": [
  {
   "cell_type": "markdown",
   "id": "f0182039-c688-4f4f-8557-eb8031fd4c36",
   "metadata": {},
   "source": [
    "# One hot encoding - variable with many categories"
   ]
  },
  {
   "cell_type": "code",
   "execution_count": 2,
   "id": "fcd582f8-782c-4584-b9ee-776f57185f16",
   "metadata": {},
   "outputs": [],
   "source": [
    "import pandas as pd\n",
    "import numpy as np"
   ]
  },
  {
   "cell_type": "code",
   "execution_count": 3,
   "id": "59f0e17e-b470-49a1-8d9b-b021a0afec82",
   "metadata": {},
   "outputs": [],
   "source": [
    "data = pd.read_csv('mercedesbenz.csv', usecols=['X1','X2','X3','X4','X5','X6'])"
   ]
  },
  {
   "cell_type": "code",
   "execution_count": 4,
   "id": "ff5a3df1-4170-4aad-8ba1-cfdabc0fe8cb",
   "metadata": {},
   "outputs": [
    {
     "data": {
      "text/html": [
       "<div>\n",
       "<style scoped>\n",
       "    .dataframe tbody tr th:only-of-type {\n",
       "        vertical-align: middle;\n",
       "    }\n",
       "\n",
       "    .dataframe tbody tr th {\n",
       "        vertical-align: top;\n",
       "    }\n",
       "\n",
       "    .dataframe thead th {\n",
       "        text-align: right;\n",
       "    }\n",
       "</style>\n",
       "<table border=\"1\" class=\"dataframe\">\n",
       "  <thead>\n",
       "    <tr style=\"text-align: right;\">\n",
       "      <th></th>\n",
       "      <th>X1</th>\n",
       "      <th>X2</th>\n",
       "      <th>X3</th>\n",
       "      <th>X4</th>\n",
       "      <th>X5</th>\n",
       "      <th>X6</th>\n",
       "    </tr>\n",
       "  </thead>\n",
       "  <tbody>\n",
       "    <tr>\n",
       "      <th>0</th>\n",
       "      <td>v</td>\n",
       "      <td>n</td>\n",
       "      <td>f</td>\n",
       "      <td>d</td>\n",
       "      <td>t</td>\n",
       "      <td>a</td>\n",
       "    </tr>\n",
       "    <tr>\n",
       "      <th>1</th>\n",
       "      <td>b</td>\n",
       "      <td>ai</td>\n",
       "      <td>a</td>\n",
       "      <td>d</td>\n",
       "      <td>b</td>\n",
       "      <td>g</td>\n",
       "    </tr>\n",
       "    <tr>\n",
       "      <th>2</th>\n",
       "      <td>v</td>\n",
       "      <td>as</td>\n",
       "      <td>f</td>\n",
       "      <td>d</td>\n",
       "      <td>a</td>\n",
       "      <td>j</td>\n",
       "    </tr>\n",
       "    <tr>\n",
       "      <th>3</th>\n",
       "      <td>l</td>\n",
       "      <td>n</td>\n",
       "      <td>f</td>\n",
       "      <td>d</td>\n",
       "      <td>z</td>\n",
       "      <td>l</td>\n",
       "    </tr>\n",
       "    <tr>\n",
       "      <th>4</th>\n",
       "      <td>s</td>\n",
       "      <td>as</td>\n",
       "      <td>c</td>\n",
       "      <td>d</td>\n",
       "      <td>y</td>\n",
       "      <td>i</td>\n",
       "    </tr>\n",
       "  </tbody>\n",
       "</table>\n",
       "</div>"
      ],
      "text/plain": [
       "  X1  X2 X3 X4 X5 X6\n",
       "0  v   n  f  d  t  a\n",
       "1  b  ai  a  d  b  g\n",
       "2  v  as  f  d  a  j\n",
       "3  l   n  f  d  z  l\n",
       "4  s  as  c  d  y  i"
      ]
     },
     "execution_count": 4,
     "metadata": {},
     "output_type": "execute_result"
    }
   ],
   "source": [
    "data.head()"
   ]
  },
  {
   "cell_type": "code",
   "execution_count": 5,
   "id": "22593da7-7db3-4782-a2e3-943b4d5bff4a",
   "metadata": {},
   "outputs": [
    {
     "name": "stdout",
     "output_type": "stream",
     "text": [
      "X1 :  27 lables\n",
      "X2 :  45 lables\n",
      "X3 :  7 lables\n",
      "X4 :  4 lables\n",
      "X5 :  32 lables\n",
      "X6 :  12 lables\n"
     ]
    }
   ],
   "source": [
    "## Let's have a look at how many labels each variable has\n",
    "\n",
    "for col in data.columns:\n",
    "    print(col, ': ', len(data[col].unique()), 'lables')"
   ]
  },
  {
   "cell_type": "code",
   "execution_count": 6,
   "id": "8be14ef2-4c75-415f-9fee-a7f0eba16c86",
   "metadata": {},
   "outputs": [
    {
     "data": {
      "text/plain": [
       "(4209, 121)"
      ]
     },
     "execution_count": 6,
     "metadata": {},
     "output_type": "execute_result"
    }
   ],
   "source": [
    "# let' examine how many columns we will obtain after one hot encoding these variables \n",
    "pd.get_dummies(data,drop_first=True).shape"
   ]
  },
  {
   "cell_type": "code",
   "execution_count": 11,
   "id": "c1ab826e-2cce-43c6-b6eb-797a3fdd8781",
   "metadata": {},
   "outputs": [
    {
     "data": {
      "text/plain": [
       "as    1658\n",
       "ae     478\n",
       "ai     462\n",
       "m      348\n",
       "ak     260\n",
       "r      155\n",
       "n      113\n",
       "s      100\n",
       "f       85\n",
       "e       84\n",
       "ay      78\n",
       "aq      72\n",
       "a       44\n",
       "b       38\n",
       "k       25\n",
       "t       25\n",
       "ag      23\n",
       "ac      20\n",
       "ao      19\n",
       "i       15\n",
       "Name: X2, dtype: int64"
      ]
     },
     "execution_count": 11,
     "metadata": {},
     "output_type": "execute_result"
    }
   ],
   "source": [
    "data.X2.value_counts().sort_values(ascending= False).head(20)"
   ]
  },
  {
   "cell_type": "code",
   "execution_count": 12,
   "id": "bf562b99-0956-4948-8e22-82737faccc09",
   "metadata": {},
   "outputs": [
    {
     "data": {
      "text/plain": [
       "['as', 'ae', 'ai', 'm', 'ak', 'r', 'n', 's', 'f', 'e']"
      ]
     },
     "execution_count": 12,
     "metadata": {},
     "output_type": "execute_result"
    }
   ],
   "source": [
    "# let's make a list with the most frequent categories of the variable\n",
    "\n",
    "top_10 = [x for x in data.X2.value_counts().sort_values(ascending= False).head(10).index]\n",
    "top_10"
   ]
  },
  {
   "cell_type": "code",
   "execution_count": 19,
   "id": "d021ac48-b55d-42c0-8ca5-3ee5c23c69d1",
   "metadata": {},
   "outputs": [
    {
     "data": {
      "text/html": [
       "<div>\n",
       "<style scoped>\n",
       "    .dataframe tbody tr th:only-of-type {\n",
       "        vertical-align: middle;\n",
       "    }\n",
       "\n",
       "    .dataframe tbody tr th {\n",
       "        vertical-align: top;\n",
       "    }\n",
       "\n",
       "    .dataframe thead th {\n",
       "        text-align: right;\n",
       "    }\n",
       "</style>\n",
       "<table border=\"1\" class=\"dataframe\">\n",
       "  <thead>\n",
       "    <tr style=\"text-align: right;\">\n",
       "      <th></th>\n",
       "      <th>X2</th>\n",
       "      <th>as</th>\n",
       "      <th>ae</th>\n",
       "      <th>ai</th>\n",
       "      <th>m</th>\n",
       "      <th>ak</th>\n",
       "      <th>r</th>\n",
       "      <th>n</th>\n",
       "      <th>s</th>\n",
       "      <th>f</th>\n",
       "      <th>e</th>\n",
       "    </tr>\n",
       "  </thead>\n",
       "  <tbody>\n",
       "    <tr>\n",
       "      <th>0</th>\n",
       "      <td>n</td>\n",
       "      <td>0</td>\n",
       "      <td>0</td>\n",
       "      <td>0</td>\n",
       "      <td>0</td>\n",
       "      <td>0</td>\n",
       "      <td>0</td>\n",
       "      <td>1</td>\n",
       "      <td>0</td>\n",
       "      <td>0</td>\n",
       "      <td>0</td>\n",
       "    </tr>\n",
       "    <tr>\n",
       "      <th>1</th>\n",
       "      <td>ai</td>\n",
       "      <td>0</td>\n",
       "      <td>0</td>\n",
       "      <td>1</td>\n",
       "      <td>0</td>\n",
       "      <td>0</td>\n",
       "      <td>0</td>\n",
       "      <td>0</td>\n",
       "      <td>0</td>\n",
       "      <td>0</td>\n",
       "      <td>0</td>\n",
       "    </tr>\n",
       "    <tr>\n",
       "      <th>2</th>\n",
       "      <td>as</td>\n",
       "      <td>1</td>\n",
       "      <td>0</td>\n",
       "      <td>0</td>\n",
       "      <td>0</td>\n",
       "      <td>0</td>\n",
       "      <td>0</td>\n",
       "      <td>0</td>\n",
       "      <td>0</td>\n",
       "      <td>0</td>\n",
       "      <td>0</td>\n",
       "    </tr>\n",
       "    <tr>\n",
       "      <th>3</th>\n",
       "      <td>n</td>\n",
       "      <td>0</td>\n",
       "      <td>0</td>\n",
       "      <td>0</td>\n",
       "      <td>0</td>\n",
       "      <td>0</td>\n",
       "      <td>0</td>\n",
       "      <td>1</td>\n",
       "      <td>0</td>\n",
       "      <td>0</td>\n",
       "      <td>0</td>\n",
       "    </tr>\n",
       "    <tr>\n",
       "      <th>4</th>\n",
       "      <td>as</td>\n",
       "      <td>1</td>\n",
       "      <td>0</td>\n",
       "      <td>0</td>\n",
       "      <td>0</td>\n",
       "      <td>0</td>\n",
       "      <td>0</td>\n",
       "      <td>0</td>\n",
       "      <td>0</td>\n",
       "      <td>0</td>\n",
       "      <td>0</td>\n",
       "    </tr>\n",
       "  </tbody>\n",
       "</table>\n",
       "</div>"
      ],
      "text/plain": [
       "   X2  as  ae  ai  m  ak  r  n  s  f  e\n",
       "0   n   0   0   0  0   0  0  1  0  0  0\n",
       "1  ai   0   0   1  0   0  0  0  0  0  0\n",
       "2  as   1   0   0  0   0  0  0  0  0  0\n",
       "3   n   0   0   0  0   0  0  1  0  0  0\n",
       "4  as   1   0   0  0   0  0  0  0  0  0"
      ]
     },
     "execution_count": 19,
     "metadata": {},
     "output_type": "execute_result"
    }
   ],
   "source": [
    "# and now we make the 10 binary variables\n",
    "\n",
    "for label in top_10:\n",
    "    data[label] = np.where(data['X2']==label, 1,0)\n",
    "    \n",
    "data[['X2'] + top_10 ].head()"
   ]
  },
  {
   "cell_type": "code",
   "execution_count": null,
   "id": "82d9abb0-1435-419a-b1b4-2424f5ba66e5",
   "metadata": {},
   "outputs": [],
   "source": []
  }
 ],
 "metadata": {
  "kernelspec": {
   "display_name": "Python 3 (ipykernel)",
   "language": "python",
   "name": "python3"
  },
  "language_info": {
   "codemirror_mode": {
    "name": "ipython",
    "version": 3
   },
   "file_extension": ".py",
   "mimetype": "text/x-python",
   "name": "python",
   "nbconvert_exporter": "python",
   "pygments_lexer": "ipython3",
   "version": "3.9.7"
  }
 },
 "nbformat": 4,
 "nbformat_minor": 5
}
